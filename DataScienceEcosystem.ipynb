{
 "cells": [
  {
   "cell_type": "markdown",
   "id": "4e2c7067-e582-4ceb-bebe-0e1e1fc1fffc",
   "metadata": {},
   "source": [
    "# Data Science Tools and Ecosystem\n"
   ]
  },
  {
   "cell_type": "markdown",
   "id": "2f9b2d71-d28b-4d01-b67a-a596272fc5a2",
   "metadata": {},
   "source": [
    "## Author\n",
    "Marcin Żebro \n",
    "<br />\n",
    "<br /> \n"
   ]
  },
  {
   "cell_type": "markdown",
   "id": "f93b1b54-6a26-4d49-a2d3-15c3a0367de8",
   "metadata": {},
   "source": [
    "In this notebook, Data Science Tools and Ecosystem are summarized."
   ]
  },
  {
   "cell_type": "markdown",
   "id": "66726c26-a65f-4280-9c0a-b24395f90d30",
   "metadata": {},
   "source": [
    "**Objectives:**\n",
    "- Becoming a data scientist you need to have an open mind and be curious about new facts\n",
    "- There are a lot technologies you need to learn to become a data scientist\n",
    "- In Data Science there are more roles than just being a Data Scientist, e.g. Data Analyst, Business Analyst, Statistician\n",
    "- Most popular programming language in Data Science is by far Python"
   ]
  },
  {
   "cell_type": "markdown",
   "id": "22dd27da-14d2-4903-ab30-598e983558a3",
   "metadata": {},
   "source": [
    "Some of the popular languages that Data Scientists use are:\n",
    "1. Python\n",
    "2. R\n",
    "3. Java\n",
    "4. SQL"
   ]
  },
  {
   "cell_type": "markdown",
   "id": "0d3fc1db-4ba9-4887-b2c6-5edecb5c4ee4",
   "metadata": {},
   "source": [
    "Some of the commonly used libraries used by Data Scientists include:\n",
    "1. Pandas\n",
    "2. TensorFlow\n",
    "3. Matplotlib"
   ]
  },
  {
   "cell_type": "markdown",
   "id": "245b4220-1a06-4e80-9008-693e99d497d8",
   "metadata": {},
   "source": [
    "| Data Science Tools |\n",
    "|-|\n",
    "|Jupyter Lab|\n",
    "|Rstudio|\n",
    "|Git|"
   ]
  },
  {
   "cell_type": "markdown",
   "id": "1d34bc8a-5abe-4931-a518-d2544dd95f2c",
   "metadata": {},
   "source": [
    "### Below are a few examples of evaluating arithmetic expressions in Python"
   ]
  },
  {
   "cell_type": "code",
   "execution_count": 2,
   "id": "0fc4de7e-da57-4e96-ad40-fb14fc7a29cf",
   "metadata": {},
   "outputs": [
    {
     "data": {
      "text/plain": [
       "17"
      ]
     },
     "execution_count": 2,
     "metadata": {},
     "output_type": "execute_result"
    }
   ],
   "source": [
    "# This a simple arithmetic expression to mutiply then add integers\n",
    "(3*4)+5"
   ]
  },
  {
   "cell_type": "code",
   "execution_count": 3,
   "id": "d30165bf-5457-40ec-b4f0-699cb04dd034",
   "metadata": {},
   "outputs": [
    {
     "data": {
      "text/plain": [
       "3.3333333333333335"
      ]
     },
     "execution_count": 3,
     "metadata": {},
     "output_type": "execute_result"
    }
   ],
   "source": [
    "# This will convert 200 minutes to hours by diving by 60\n",
    "200/60"
   ]
  },
  {
   "cell_type": "code",
   "execution_count": null,
   "id": "951b304f-ede6-4102-8803-6c16f6ce5a04",
   "metadata": {},
   "outputs": [],
   "source": []
  }
 ],
 "metadata": {
  "kernelspec": {
   "display_name": "Python 3 (ipykernel)",
   "language": "python",
   "name": "python3"
  },
  "language_info": {
   "codemirror_mode": {
    "name": "ipython",
    "version": 3
   },
   "file_extension": ".py",
   "mimetype": "text/x-python",
   "name": "python",
   "nbconvert_exporter": "python",
   "pygments_lexer": "ipython3",
   "version": "3.11.2"
  }
 },
 "nbformat": 4,
 "nbformat_minor": 5
}
